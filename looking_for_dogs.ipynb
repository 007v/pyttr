{
 "cells": [
  {
   "cell_type": "code",
   "execution_count": 1,
   "metadata": {
    "collapsed": false
   },
   "outputs": [],
   "source": [
    "#import sys\n",
    "#sys.path.append('pyttr')\n",
    "#from pyttr.ttrtypes import *\n",
    "from ttrtypes import *\n",
    "#from pyttr.utils import *\n",
    "from ttrtypes import *\n",
    "from utils import show_latex"
   ]
  },
  {
   "cell_type": "markdown",
   "metadata": {},
   "source": [
    "For comparison, how Arild represented images in his thesis. Feel free to skip over this."
   ]
  },
  {
   "cell_type": "code",
   "execution_count": 2,
   "metadata": {
    "collapsed": false
   },
   "outputs": [
    {
     "data": {
      "text/latex": [
       "\\begin{equation}\\left(\\begin{array}{rcl}\n",
       "Image->\\left[\\begin{array}{rcl}\n",
       "\\left[\\begin{array}{rcl}\n",
       "seg &:& \\left[\\begin{array}{rcl}\n",
       "w &:& Int\\\\\n",
       "cy &:& Int\\\\\n",
       "cx &:& Int\\\\\n",
       "h &:& Int\n",
       "\\end{array}\\right]\\\\\n",
       "pfun &:& \\left(\\begin{array}{rcl}\n",
       "Ind->Ty\n",
       "\\end{array}\\right))\n",
       "\\end{array}\\right]\n",
       "\\end{array}\\right]\n",
       "\\end{array}\\right))\\end{equation}"
      ],
      "text/plain": [
       "<IPython.core.display.Latex object>"
      ]
     },
     "execution_count": 2,
     "metadata": {},
     "output_type": "execute_result"
    }
   ],
   "source": [
    "Int = BType('Int')\n",
    "Ind = BType('Ind')\n",
    "Image = BType('Image')\n",
    "\n",
    "Image.learn_witness_condition(lambda x: isinstance(x, PIL.Image.Image))\n",
    "\n",
    "Segment = RecType({'cx': Int, 'cy': Int, 'w': Int, 'h': Int})\n",
    "Ppty = FunType(Ind, Ty)\n",
    "Obj = RecType({'seg': Segment, 'pfun': Ppty})\n",
    "Objs = ListType(Obj)\n",
    "ObjDetector = FunType(Image, Objs)\n",
    "\n",
    "show_latex(ObjDetector)"
   ]
  },
  {
   "cell_type": "code",
   "execution_count": 3,
   "metadata": {
    "collapsed": true
   },
   "outputs": [],
   "source": [
    "yolo_out ={'label': 'dog', 'loc': {'w': 80, 'cy': 209, 'h': 70, 'cx': 328}}"
   ]
  },
  {
   "cell_type": "code",
   "execution_count": 4,
   "metadata": {
    "collapsed": false
   },
   "outputs": [
    {
     "data": {
      "text/latex": [
       "\\begin{equation}\\left[\\begin{array}{rcl}\n",
       "\\text{seg} &=& \\left[\\begin{array}{rcl}\n",
       "\\text{w} &=& 80\\\\\n",
       "\\text{cy} &=& 209\\\\\n",
       "\\text{cx} &=& 328\\\\\n",
       "\\text{h} &=& 70\n",
       "\\end{array}\\right]\\\\\n",
       "\\text{pfun} &=& \\lambda a:Ind\\ .\\ \\text{dog}(\\text{a})\n",
       "\\end{array}\\right]\\end{equation}"
      ],
      "text/plain": [
       "<IPython.core.display.Latex object>"
      ]
     },
     "execution_count": 4,
     "metadata": {},
     "output_type": "execute_result"
    }
   ],
   "source": [
    "dog = Pred('dog',[Ind])\n",
    "\n",
    "T = Rec({'pfun':(Fun('a',Ind,PType(dog,['a']))),'seg':Rec({'w': 80, 'cy': 209, 'h': 70, 'cx': 328})})\n",
    "show_latex(T)\n",
    "\n",
    "#The object in the image is represented with a bounding box and a predicate"
   ]
  },
  {
   "cell_type": "markdown",
   "metadata": {
    "collapsed": false
   },
   "source": [
    "But what if I represent the object with the bounding box and an Ind constant?\n",
    "The idea is to have a list of objects without making any judgements about the predicates that apply to them. \n",
    "I'm thinking they should be records (not record types), since they are concrete instances. Does that make sense?"
   ]
  },
  {
   "cell_type": "code",
   "execution_count": 5,
   "metadata": {
    "collapsed": false
   },
   "outputs": [
    {
     "data": {
      "text/latex": [
       "\\begin{equation}[ \\left[\\begin{array}{rcl}\n",
       "\\text{x} &=& \\text{a}\\\\\n",
       "\\text{seg} &=& \\left[\\begin{array}{rcl}\n",
       "\\text{w} &=& 80\\\\\n",
       "\\text{cy} &=& 209\\\\\n",
       "\\text{cx} &=& 328\\\\\n",
       "\\text{h} &=& 70\n",
       "\\end{array}\\right]\n",
       "\\end{array}\\right], \\left[\\begin{array}{rcl}\n",
       "\\text{seg} &=& \\left[\\begin{array}{rcl}\n",
       "\\text{w} &=& 40\\\\\n",
       "\\text{cy} &=& 109\\\\\n",
       "\\text{cx} &=& 256\\\\\n",
       "\\text{h} &=& 20\n",
       "\\end{array}\\right]\\\\\n",
       "\\text{x} &=& \\text{b}\n",
       "\\end{array}\\right]]\\end{equation}"
      ],
      "text/plain": [
       "<IPython.core.display.Latex object>"
      ]
     },
     "execution_count": 5,
     "metadata": {},
     "output_type": "execute_result"
    }
   ],
   "source": [
    "T1 = Rec({'x':'a','seg':Rec({'w': 80, 'cy': 209, 'h': 70, 'cx': 328})})\n",
    "T2 = Rec({'x':'b','seg':Rec({'w': 40, 'cy': 109, 'h': 20, 'cx': 256})})\n",
    "Segments = [T1, T2]\n",
    "show_latex(Segments)"
   ]
  },
  {
   "cell_type": "code",
   "execution_count": 6,
   "metadata": {
    "collapsed": false
   },
   "outputs": [],
   "source": [
    "def dog_idfun(T):\n",
    "    '''placeholder for an actual classifier \n",
    "    the actual classifier will make a binary decision based on information from the record'''\n",
    "    if T.seg.h <50:\n",
    "        return False\n",
    "    else:\n",
    "        return True"
   ]
  },
  {
   "cell_type": "code",
   "execution_count": 7,
   "metadata": {
    "collapsed": false
   },
   "outputs": [
    {
     "data": {
      "text/plain": [
       "[True, False]"
      ]
     },
     "execution_count": 7,
     "metadata": {},
     "output_type": "execute_result"
    }
   ],
   "source": [
    "[dog_idfun(t) for t in Segments]"
   ]
  },
  {
   "cell_type": "markdown",
   "metadata": {},
   "source": [
    "In general, I want to use utterances to guide visual classification.\n",
    "\n",
    "As a simple example, this would be a representation for \"There is a dog.\" The response should be True or False."
   ]
  },
  {
   "cell_type": "code",
   "execution_count": 8,
   "metadata": {
    "collapsed": false
   },
   "outputs": [
    {
     "data": {
      "text/latex": [
       "\\begin{equation}\\left[\\begin{array}{rcl}\n",
       "c &:& \\langle \\lambda v:Ind\\ .\\ \\text{dog}(\\text{v}), [ \\text{x}]\\rangle\\\\\n",
       "x &:& Ind\n",
       "\\end{array}\\right]\\end{equation}"
      ],
      "text/plain": [
       "<IPython.core.display.Latex object>"
      ]
     },
     "execution_count": 8,
     "metadata": {},
     "output_type": "execute_result"
    }
   ],
   "source": [
    "Utt = RecType({'x':Ind, 'c':(Fun('v',Ind,PType(dog,['v'])),['x'])})\n",
    "\n",
    "show_latex(Utt)"
   ]
  },
  {
   "cell_type": "markdown",
   "metadata": {},
   "source": [
    "Instead of subtype checking, I thought about checking if the image segment is record of the record type of the utterance."
   ]
  },
  {
   "cell_type": "code",
   "execution_count": 9,
   "metadata": {
    "collapsed": false
   },
   "outputs": [
    {
     "data": {
      "text/latex": [
       "\\begin{equation}\\left[\\begin{array}{rcl}\n",
       "\\text{c} &=& \\langle \\lambda v:Ind\\ .\\ \\text{dog}(\\text{v}), [ \\text{x}]\\rangle\\\\\n",
       "\\text{x} &=& \\text{a}\n",
       "\\end{array}\\right]\\end{equation}"
      ],
      "text/plain": [
       "<IPython.core.display.Latex object>"
      ]
     },
     "execution_count": 9,
     "metadata": {},
     "output_type": "execute_result"
    }
   ],
   "source": [
    "T = Rec({'x':'a', 'c':(Fun('v',Ind,PType(dog,['v'])),['x'])})\n",
    "show_latex(T)"
   ]
  },
  {
   "cell_type": "markdown",
   "metadata": {},
   "source": [
    "In principle, I need to do something like the following. I'm stuck on how to integrate the representation of the image segments and the predicate.\n",
    "\n",
    "The predicate should determine the classifier to use on the image segments."
   ]
  },
  {
   "cell_type": "code",
   "execution_count": 10,
   "metadata": {
    "collapsed": false
   },
   "outputs": [
    {
     "name": "stdout",
     "output_type": "stream",
     "text": [
      "True\n",
      "\n",
      "M:\n",
      "_____________________________________________\n",
      "Ind: [a, b]\n",
      "dog(a): [s]\n",
      "_____________________________________________\n",
      "\n"
     ]
    },
    {
     "data": {
      "text/latex": [
       "\\begin{equation}\\left[\\begin{array}{rcl}\n",
       "\\text{c} &=& \\text{s}\\\\\n",
       "\\text{x} &=& \\text{a}\n",
       "\\end{array}\\right]\\end{equation}"
      ],
      "text/plain": [
       "<IPython.core.display.Latex object>"
      ]
     },
     "execution_count": 10,
     "metadata": {},
     "output_type": "execute_result"
    }
   ],
   "source": [
    "M = Possibility('M')\n",
    "\n",
    "#the finished version should do this based on the actual image ofc\n",
    "Ind.judge('a')\n",
    "Ind.judge('b')\n",
    "\n",
    "clsf = dog_idfun\n",
    "for seg in Segments:\n",
    "    if clsf(seg):\n",
    "        dog_a = PType(dog,[seg.x])  #again, the dog needs to be variable in the final version\n",
    "        dog_a.in_poss(M).judge('s')\n",
    "        a_is_dog = Rec({'x':seg.x,'c':'s'})\n",
    "\n",
    "print(Utt.in_poss(M).query(a_is_dog))\n",
    "print(show(M))\n",
    "#print(show(dog_a))\n",
    "show_latex(a_is_dog)\n"
   ]
  },
  {
   "cell_type": "code",
   "execution_count": 11,
   "metadata": {
    "collapsed": false
   },
   "outputs": [
    {
     "data": {
      "text/plain": [
       "True"
      ]
     },
     "execution_count": 11,
     "metadata": {},
     "output_type": "execute_result"
    }
   ],
   "source": [
    "Utt.in_poss(M).query(a_is_dog)"
   ]
  },
  {
   "cell_type": "code",
   "execution_count": 12,
   "metadata": {
    "collapsed": false
   },
   "outputs": [
    {
     "name": "stdout",
     "output_type": "stream",
     "text": [
      "True\n"
     ]
    }
   ],
   "source": [
    "print(RecOfRecType(a_is_dog,Utt,M))"
   ]
  },
  {
   "cell_type": "markdown",
   "metadata": {
    "collapsed": false
   },
   "source": [
    "### Robin's suggestion"
   ]
  },
  {
   "cell_type": "code",
   "execution_count": 40,
   "metadata": {
    "collapsed": false
   },
   "outputs": [
    {
     "name": "stdout",
     "output_type": "stream",
     "text": [
      "True\n",
      "[False, True]\n",
      "True\n"
     ]
    },
    {
     "data": {
      "text/latex": [
       "\\begin{equation}[ \\left[\\begin{array}{rcl}\n",
       "\\text{c} &=& \\left[\\begin{array}{rcl}\n",
       "\\text{seg} &=& \\left[\\begin{array}{rcl}\n",
       "\\text{w} &=& 40\\\\\n",
       "\\text{cy} &=& 109\\\\\n",
       "\\text{cx} &=& 256\\\\\n",
       "\\text{h} &=& 20\n",
       "\\end{array}\\right]\\\\\n",
       "\\text{x} &=& \\text{b}\n",
       "\\end{array}\\right]\\\\\n",
       "\\text{x} &=& \\text{b}\n",
       "\\end{array}\\right]]\\end{equation}"
      ],
      "text/plain": [
       "<IPython.core.display.Latex object>"
      ]
     },
     "execution_count": 40,
     "metadata": {},
     "output_type": "execute_result"
    }
   ],
   "source": [
    "Int.learn_witness_condition(lambda x: isinstance(x,int))\n",
    "DogSeg = BType('DogSeg')\n",
    "DogSeg.learn_witness_condition(lambda seg: Segment.query(seg) and seg.h<50)\n",
    "dog.learn_witness_fun(lambda args: RecType({'x':SingletonType(Ind,args[0]),'seg':DogSeg}))\n",
    "dog_b = PType(dog,['b'])\n",
    "print(dog_b.query(T2))\n",
    "print([PType(dog,[s.x]).query(s) for s in Segments])\n",
    "Dog_situations = [Rec({'x':s.x,'c':s}) for s in Segments if PType(dog,[s.x]).query(s)]\n",
    "print(Utt.query(Dog_situations[0]))\n",
    "show_latex(Dog_situations)"
   ]
  },
  {
   "cell_type": "markdown",
   "metadata": {},
   "source": [
    "Note that in the above `Segment` is the type of segments but `Segments` is a list of records containing an individual and a segment.  You might want to change one of the names for clarity.\n",
    "\n",
    "Your classifier will be called in the definition of the witness condition for the type `DogSeg` (currently represented by `seg.h<50`)."
   ]
  },
  {
   "cell_type": "code",
   "execution_count": null,
   "metadata": {
    "collapsed": true
   },
   "outputs": [],
   "source": []
  }
 ],
 "metadata": {
  "anaconda-cloud": {},
  "kernelspec": {
   "display_name": "Python 3",
   "language": "python",
   "name": "python3"
  },
  "language_info": {
   "codemirror_mode": {
    "name": "ipython",
    "version": 3
   },
   "file_extension": ".py",
   "mimetype": "text/x-python",
   "name": "python",
   "nbconvert_exporter": "python",
   "pygments_lexer": "ipython3",
   "version": "3.4.3"
  }
 },
 "nbformat": 4,
 "nbformat_minor": 1
}

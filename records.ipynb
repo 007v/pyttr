{
 "cells": [
  {
   "cell_type": "markdown",
   "metadata": {},
   "source": [
    "## Records in `pyttr`"
   ]
  },
  {
   "cell_type": "markdown",
   "metadata": {},
   "source": [
    "We provide examples of records in `pyttr` and methods for operating on records.  Records are implemented in the module `records`."
   ]
  },
  {
   "cell_type": "code",
   "execution_count": 1,
   "metadata": {
    "collapsed": true
   },
   "outputs": [],
   "source": [
    "from records import Rec\n",
    "from utils import show, show_latex"
   ]
  },
  {
   "cell_type": "markdown",
   "metadata": {},
   "source": [
    "Records are implemented using the class `Rec` which makes use of records as provided in Python."
   ]
  },
  {
   "cell_type": "code",
   "execution_count": 2,
   "metadata": {
    "collapsed": false
   },
   "outputs": [
    {
     "name": "stdout",
     "output_type": "stream",
     "text": [
      "{f = {f = {gg = b, ff = a}, g = c}, g = {h = {g = a, h = d}}}\n"
     ]
    },
    {
     "data": {
      "text/latex": [
       "\\begin{equation}\\left[\\begin{array}{rcl}\n",
       "\\text{f} &=& \\left[\\begin{array}{rcl}\n",
       "\\text{f} &=& \\left[\\begin{array}{rcl}\n",
       "\\text{gg} &=& \\text{b}\\\\\n",
       "\\text{ff} &=& \\text{a}\n",
       "\\end{array}\\right]\\\\\n",
       "\\text{g} &=& \\text{c}\n",
       "\\end{array}\\right]\\\\\n",
       "\\text{g} &=& \\left[\\begin{array}{rcl}\n",
       "\\text{h} &=& \\left[\\begin{array}{rcl}\n",
       "\\text{g} &=& \\text{a}\\\\\n",
       "\\text{h} &=& \\text{d}\n",
       "\\end{array}\\right]\n",
       "\\end{array}\\right]\n",
       "\\end{array}\\right]\\end{equation}"
      ],
      "text/plain": [
       "<IPython.core.display.Latex object>"
      ]
     },
     "execution_count": 2,
     "metadata": {},
     "output_type": "execute_result"
    }
   ],
   "source": [
    "r = Rec({'f':{'f':{'ff':'a', 'gg':'b'}, 'g':'c'}, 'g':{'h':{'g':'a','h':'d'}}})\n",
    "print(show(r))\n",
    "show_latex(r)"
   ]
  },
  {
   "cell_type": "markdown",
   "metadata": {},
   "source": [
    "We can obtain projections from records in the standard way using '.'-notation."
   ]
  },
  {
   "cell_type": "code",
   "execution_count": 3,
   "metadata": {
    "collapsed": false
   },
   "outputs": [
    {
     "name": "stdout",
     "output_type": "stream",
     "text": [
      "{f = {gg = b, ff = a}, g = c}\n",
      "{g = a, h = d}\n",
      "a\n"
     ]
    }
   ],
   "source": [
    "print(show(r.f))\n",
    "print(show(r.g.h))\n",
    "print(show(r.f.f.ff))"
   ]
  },
  {
   "cell_type": "code",
   "execution_count": 9,
   "metadata": {
    "collapsed": false
   },
   "outputs": [
    {
     "data": {
      "text/latex": [
       "\\begin{equation}\\left[\\begin{array}{rcl}\n",
       "\\text{f} &=& \\left[\\begin{array}{rcl}\n",
       "\\text{gg} &=& \\text{b}\\\\\n",
       "\\text{ff} &=& \\text{a}\n",
       "\\end{array}\\right]\\\\\n",
       "\\text{g} &=& \\text{c}\n",
       "\\end{array}\\right]\\end{equation}"
      ],
      "text/plain": [
       "<IPython.core.display.Latex object>"
      ]
     },
     "execution_count": 9,
     "metadata": {},
     "output_type": "execute_result"
    }
   ],
   "source": [
    "show_latex(r.f)"
   ]
  },
  {
   "cell_type": "markdown",
   "metadata": {},
   "source": [
    "A method is also provided for performing simple substitution in records."
   ]
  },
  {
   "cell_type": "code",
   "execution_count": 10,
   "metadata": {
    "collapsed": false
   },
   "outputs": [
    {
     "name": "stdout",
     "output_type": "stream",
     "text": [
      "{g = {h = {g = z, h = d}}, f = {g = c, f = {gg = b, ff = z}}}\n"
     ]
    },
    {
     "data": {
      "text/latex": [
       "\\begin{equation}\\left[\\begin{array}{rcl}\n",
       "\\text{g} &=& \\left[\\begin{array}{rcl}\n",
       "\\text{h} &=& \\left[\\begin{array}{rcl}\n",
       "\\text{g} &=& \\text{z}\\\\\n",
       "\\text{h} &=& \\text{d}\n",
       "\\end{array}\\right]\n",
       "\\end{array}\\right]\\\\\n",
       "\\text{f} &=& \\left[\\begin{array}{rcl}\n",
       "\\text{g} &=& \\text{c}\\\\\n",
       "\\text{f} &=& \\left[\\begin{array}{rcl}\n",
       "\\text{gg} &=& \\text{b}\\\\\n",
       "\\text{ff} &=& \\text{z}\n",
       "\\end{array}\\right]\n",
       "\\end{array}\\right]\n",
       "\\end{array}\\right]\\end{equation}"
      ],
      "text/plain": [
       "<IPython.core.display.Latex object>"
      ]
     },
     "execution_count": 10,
     "metadata": {},
     "output_type": "execute_result"
    }
   ],
   "source": [
    "print(show(r.subst('a','z')))\n",
    "show_latex(r.subst('a','z'))"
   ]
  },
  {
   "cell_type": "markdown",
   "metadata": {},
   "source": [
    "An important operation on records is that of flattening where a complex record can be converted to a simple record (with non-records as values) and the labels represent the paths in the original record."
   ]
  },
  {
   "cell_type": "code",
   "execution_count": 12,
   "metadata": {
    "collapsed": false
   },
   "outputs": [
    {
     "name": "stdout",
     "output_type": "stream",
     "text": [
      "{g.h.h = d, f.f.gg = b, f.g = c, g.h.g = a, f.f.ff = a}\n"
     ]
    },
    {
     "data": {
      "text/latex": [
       "\\begin{equation}\\left[\\begin{array}{rcl}\n",
       "\\text{g.h.h} &=& \\text{d}\\\\\n",
       "\\text{f.f.gg} &=& \\text{b}\\\\\n",
       "\\text{f.g} &=& \\text{c}\\\\\n",
       "\\text{g.h.g} &=& \\text{a}\\\\\n",
       "\\text{f.f.ff} &=& \\text{a}\n",
       "\\end{array}\\right]\\end{equation}"
      ],
      "text/plain": [
       "<IPython.core.display.Latex object>"
      ]
     },
     "execution_count": 12,
     "metadata": {},
     "output_type": "execute_result"
    }
   ],
   "source": [
    "print(show(r.flatten()))\n",
    "show_latex(r.flatten())"
   ]
  },
  {
   "cell_type": "markdown",
   "metadata": {},
   "source": [
    "The fact that we have represented the paths of the original record in the flattened record means that we can recover the original record using the `unflatten`-method.  (The fields may print in a different order due to Python's implementation, but this does not matter.  Formally, records are defined as sets of fields, pairs of a label and a value.)"
   ]
  },
  {
   "cell_type": "code",
   "execution_count": 13,
   "metadata": {
    "collapsed": false
   },
   "outputs": [
    {
     "name": "stdout",
     "output_type": "stream",
     "text": [
      "{f = {g = c, f = {gg = b, ff = a}}, g = {h = {g = a, h = d}}}\n"
     ]
    },
    {
     "data": {
      "text/latex": [
       "\\begin{equation}\\left[\\begin{array}{rcl}\n",
       "\\text{f} &=& \\left[\\begin{array}{rcl}\n",
       "\\text{g} &=& \\text{c}\\\\\n",
       "\\text{f} &=& \\left[\\begin{array}{rcl}\n",
       "\\text{gg} &=& \\text{b}\\\\\n",
       "\\text{ff} &=& \\text{a}\n",
       "\\end{array}\\right]\n",
       "\\end{array}\\right]\\\\\n",
       "\\text{g} &=& \\left[\\begin{array}{rcl}\n",
       "\\text{h} &=& \\left[\\begin{array}{rcl}\n",
       "\\text{g} &=& \\text{a}\\\\\n",
       "\\text{h} &=& \\text{d}\n",
       "\\end{array}\\right]\n",
       "\\end{array}\\right]\n",
       "\\end{array}\\right]\\end{equation}"
      ],
      "text/plain": [
       "<IPython.core.display.Latex object>"
      ]
     },
     "execution_count": 13,
     "metadata": {},
     "output_type": "execute_result"
    }
   ],
   "source": [
    "print(show(r.flatten().unflatten()))\n",
    "show_latex(r.flatten().unflatten())"
   ]
  },
  {
   "cell_type": "markdown",
   "metadata": {},
   "source": [
    "We may also relabel records.  Note that this only replaces the topmost occurrence of `f` in `r`."
   ]
  },
  {
   "cell_type": "code",
   "execution_count": 14,
   "metadata": {
    "collapsed": false
   },
   "outputs": [
    {
     "name": "stdout",
     "output_type": "stream",
     "text": [
      "{g = {h = {g = a, h = d}}, z = {f = {gg = b, ff = a}, g = c}}\n"
     ]
    },
    {
     "data": {
      "text/latex": [
       "\\begin{equation}\\left[\\begin{array}{rcl}\n",
       "\\text{g} &=& \\left[\\begin{array}{rcl}\n",
       "\\text{h} &=& \\left[\\begin{array}{rcl}\n",
       "\\text{g} &=& \\text{a}\\\\\n",
       "\\text{h} &=& \\text{d}\n",
       "\\end{array}\\right]\n",
       "\\end{array}\\right]\\\\\n",
       "\\text{z} &=& \\left[\\begin{array}{rcl}\n",
       "\\text{f} &=& \\left[\\begin{array}{rcl}\n",
       "\\text{gg} &=& \\text{b}\\\\\n",
       "\\text{ff} &=& \\text{a}\n",
       "\\end{array}\\right]\\\\\n",
       "\\text{g} &=& \\text{c}\n",
       "\\end{array}\\right]\n",
       "\\end{array}\\right]\\end{equation}"
      ],
      "text/plain": [
       "<IPython.core.display.Latex object>"
      ]
     },
     "execution_count": 14,
     "metadata": {},
     "output_type": "execute_result"
    }
   ],
   "source": [
    "print(show(r.relabel('f','z')))\n",
    "show_latex(r.relabel('f','z'))"
   ]
  },
  {
   "cell_type": "markdown",
   "metadata": {},
   "source": [
    "If you want to change labels lower down or even replace whole paths then you should first flatten the record, relabel and then unflatten.  Note that this provides a powerful tool for changing the structure of a record.  After relabelling in this way different objects may be grouped together although the objects occurring in the record will be the same."
   ]
  },
  {
   "cell_type": "code",
   "execution_count": 15,
   "metadata": {
    "collapsed": false
   },
   "outputs": [
    {
     "name": "stdout",
     "output_type": "stream",
     "text": [
      "{f.f.ff = a, x.a = b, f.g = c, g.h.g = a, g.h.h = d}\n",
      "{g = {h = {g = a, h = d}}, f = {g = c, f = {ff = a}}, x = {a = b}}\n"
     ]
    },
    {
     "data": {
      "text/latex": [
       "\\begin{equation}\\left[\\begin{array}{rcl}\n",
       "\\text{g} &=& \\left[\\begin{array}{rcl}\n",
       "\\text{h} &=& \\left[\\begin{array}{rcl}\n",
       "\\text{g} &=& \\text{a}\\\\\n",
       "\\text{h} &=& \\text{d}\n",
       "\\end{array}\\right]\n",
       "\\end{array}\\right]\\\\\n",
       "\\text{f} &=& \\left[\\begin{array}{rcl}\n",
       "\\text{g} &=& \\text{c}\\\\\n",
       "\\text{f} &=& \\left[\\begin{array}{rcl}\n",
       "\\text{ff} &=& \\text{a}\n",
       "\\end{array}\\right]\n",
       "\\end{array}\\right]\\\\\n",
       "\\text{x} &=& \\left[\\begin{array}{rcl}\n",
       "\\text{a} &=& \\text{b}\n",
       "\\end{array}\\right]\n",
       "\\end{array}\\right]\\end{equation}"
      ],
      "text/plain": [
       "<IPython.core.display.Latex object>"
      ]
     },
     "execution_count": 15,
     "metadata": {},
     "output_type": "execute_result"
    }
   ],
   "source": [
    "print(show(r.flatten().relabel(\"f.f.gg\", \"x.a\")))\n",
    "\n",
    "print(show(r.flatten().relabel(\"f.f.gg\", \"x.a\").unflatten()))\n",
    "\n",
    "show_latex(r.flatten().relabel(\"f.f.gg\", \"x.a\").unflatten())"
   ]
  },
  {
   "cell_type": "code",
   "execution_count": null,
   "metadata": {
    "collapsed": true
   },
   "outputs": [],
   "source": []
  }
 ],
 "metadata": {
  "kernelspec": {
   "display_name": "Python 3",
   "language": "python",
   "name": "python3"
  },
  "language_info": {
   "codemirror_mode": {
    "name": "ipython",
    "version": 3
   },
   "file_extension": ".py",
   "mimetype": "text/x-python",
   "name": "python",
   "nbconvert_exporter": "python",
   "pygments_lexer": "ipython3",
   "version": "3.4.3"
  }
 },
 "nbformat": 4,
 "nbformat_minor": 2
}
